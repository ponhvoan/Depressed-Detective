{
 "cells": [
  {
   "cell_type": "code",
   "execution_count": 11,
   "metadata": {},
   "outputs": [],
   "source": [
    "import pygsheets \n",
    "import numpy as np"
   ]
  },
  {
   "cell_type": "code",
   "execution_count": 18,
   "metadata": {},
   "outputs": [],
   "source": [
    "import pandas as pd\n",
    "import gspread\n",
    "import df2gspread as d2g"
   ]
  },
  {
   "cell_type": "code",
   "execution_count": 68,
   "metadata": {},
   "outputs": [
    {
     "name": "stdout",
     "output_type": "stream",
     "text": [
      "<Spreadsheet 'Depressed detective' Sheets:1>\n"
     ]
    }
   ],
   "source": [
    "import pygsheets \n",
    "import json\n",
    "from google.oauth2 import service_account\n",
    "from pygsheets.datarange import DataRange\n",
    "with open('service_account.json') as source:\n",
    "    info = json.load(source)\n",
    "credentials = service_account.Credentials.from_service_account_info(info)\n",
    "client = pygsheets.authorize(service_account_file = 'service_account.json')\n",
    "spreadsheet_url = \"https://docs.google.com/spreadsheets/d/1mTY1z5O_A6Lu9Glq50huWMUh7IwEsiWMy6PjDaD0tfg/edit?usp=sharing\"\n",
    "sheet_data = client.sheet.get('1mTY1z5O_A6Lu9Glq50huWMUh7IwEsiWMy6PjDaD0tfg')\n",
    "sheet = client.open_by_key('1mTY1z5O_A6Lu9Glq50huWMUh7IwEsiWMy6PjDaD0tfg')\n",
    "print(sheet)\n",
    "wks = sheet.worksheet_by_title('depressed')\n",
    "df = pd.read_csv('train_data.csv')\n",
    "wks.set_dataframe(df, start=(1,1))"
   ]
  },
  {
   "cell_type": "code",
   "execution_count": null,
   "metadata": {},
   "outputs": [],
   "source": []
  }
 ],
 "metadata": {
  "kernelspec": {
   "display_name": "Python 3",
   "language": "python",
   "name": "python3"
  },
  "language_info": {
   "codemirror_mode": {
    "name": "ipython",
    "version": 3
   },
   "file_extension": ".py",
   "mimetype": "text/x-python",
   "name": "python",
   "nbconvert_exporter": "python",
   "pygments_lexer": "ipython3",
   "version": "3.8.3"
  }
 },
 "nbformat": 4,
 "nbformat_minor": 4
}
